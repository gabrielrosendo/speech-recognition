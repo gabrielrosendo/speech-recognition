{
  "cells": [
    {
      "cell_type": "markdown",
      "metadata": {
        "id": "ssnZbKTL4msi"
      },
      "source": [
        "**Participation. 1/23**\n",
        "\n",
        "**Name: `Your Name`**"
      ]
    },
    {
      "cell_type": "code",
      "execution_count": 2,
      "metadata": {
        "id": "e2QfiQUw4ccA"
      },
      "outputs": [],
      "source": [
        "import re"
      ]
    },
    {
      "cell_type": "markdown",
      "metadata": {
        "id": "M7DwRtuQgmEv"
      },
      "source": [
        "# Python Regular Expressions\n",
        "\n",
        "The Python `re` module provides many functions for regular expression support.  Here you will learn more about the different functions and complete exercises to practice their use."
      ]
    },
    {
      "cell_type": "markdown",
      "metadata": {
        "id": "GuO1Fcv3pJFe"
      },
      "source": [
        "## `re.match`\n",
        "\n",
        "The `match() function is used to check a pattern against some text.  It only tries to find the pattern in the beginning of the text.  \n",
        "\n",
        "`re.match` Documentation:  https://docs.python.org/3.7/library/re.html#re.match\n",
        "\n",
        "\n",
        "*Reminder* the 'r' at the start of the pattern, indicates that it is a \"raw\" string which passes through backslashes (handy for regular expresssions)."
      ]
    },
    {
      "cell_type": "markdown",
      "metadata": {
        "id": "Xr3ffV3Gs4sp"
      },
      "source": [
        "### Example"
      ]
    },
    {
      "cell_type": "code",
      "execution_count": 3,
      "metadata": {
        "colab": {
          "base_uri": "https://localhost:8080/"
        },
        "id": "l2qbAH3IsNWC",
        "outputId": "d24b429f-0af6-461d-972f-9f03bfd16e1c"
      },
      "outputs": [
        {
          "name": "stdout",
          "output_type": "stream",
          "text": [
            "found  Regular\n",
            "did not find\n"
          ]
        }
      ],
      "source": [
        "tmpStr1 = 'Regular expressions are great'\n",
        "tmpStr2 = 'It is fun learning about regular expressions'\n",
        "match = re.match(r'[Rr]egular', tmpStr1)\n",
        "if match:\n",
        "    print('found ', match.group())\n",
        "else:\n",
        "    print(\"did not find\")\n",
        "\n",
        "match = re.match(r'[Rr]egular', tmpStr2)\n",
        "if match:\n",
        "    print('found ', match.group())\n",
        "else:\n",
        "    print(\"did not find\")"
      ]
    },
    {
      "cell_type": "markdown",
      "metadata": {
        "id": "YF0GmxwJg8dJ"
      },
      "source": [
        "## `re.search`\n",
        "\n",
        "The `re.search(pat, str)` function takes two main arguments: `pat` a regular expression pattern and a `str` string.  The method searches for that first occurence of the pattern within the string.  If sucessful, `search()` returns a match object; otherwise it returns None.\n",
        "\n",
        "`re.search()` Documentation: https://docs.python.org/3.7/library/re.html#re.search"
      ]
    },
    {
      "cell_type": "markdown",
      "metadata": {
        "id": "6m30_qajs6uY"
      },
      "source": [
        "### Example"
      ]
    },
    {
      "cell_type": "code",
      "execution_count": 4,
      "metadata": {
        "colab": {
          "base_uri": "https://localhost:8080/"
        },
        "id": "RhzMRUT9sr18",
        "outputId": "d3835d66-6492-4161-a380-124863b535dd"
      },
      "outputs": [
        {
          "name": "stdout",
          "output_type": "stream",
          "text": [
            "found  Regular\n",
            "found  regular\n"
          ]
        }
      ],
      "source": [
        "tmpStr1 = 'Regular expressions are great'\n",
        "tmpStr2 = 'It is fun learning about regular expressions'\n",
        "match = re.search(r'[Rr]egular', tmpStr1)\n",
        "if match:\n",
        "    print('found ', match.group())\n",
        "else:\n",
        "    print(\"did not find\")\n",
        "\n",
        "match = re.search(r'[Rr]egular', tmpStr2)\n",
        "if match:\n",
        "    print('found ', match.group())\n",
        "else:\n",
        "    print(\"did not find\")"
      ]
    },
    {
      "cell_type": "markdown",
      "metadata": {
        "id": "LaaeBIausv6H"
      },
      "source": [
        "### Example"
      ]
    },
    {
      "cell_type": "code",
      "execution_count": 5,
      "metadata": {
        "colab": {
          "base_uri": "https://localhost:8080/"
        },
        "id": "uSltHybRfpj4",
        "outputId": "e0f539d5-f439-4a7f-a331-8abe3fa9bc05"
      },
      "outputs": [
        {
          "name": "stdout",
          "output_type": "stream",
          "text": [
            "found  cat, Fido\n"
          ]
        }
      ],
      "source": [
        "tmpStr1 = 'I have a cat, Fido'\n",
        "tmpStr2 = 'I have a cat, Felix'\n",
        "tmpStr3 = 'I have a cat, It'\n",
        "match = re.search(r'cat,\\s\\w\\w\\w\\w', tmpStr1)\n",
        "if match:\n",
        "    print('found ', match.group())\n",
        "else:\n",
        "    print(\"did not find\")"
      ]
    },
    {
      "cell_type": "markdown",
      "metadata": {
        "id": "Ct9XkyFEiisY"
      },
      "source": [
        "Try running the expression above on the three test strings.\n"
      ]
    },
    {
      "cell_type": "markdown",
      "metadata": {
        "id": "0uZed0OpjQXk"
      },
      "source": [
        "### Exercise 1 - Properties of search\n",
        "\n",
        "Examine the following search uses of the search function."
      ]
    },
    {
      "cell_type": "code",
      "execution_count": 6,
      "metadata": {
        "colab": {
          "base_uri": "https://localhost:8080/"
        },
        "id": "YWwyrNM6iLJT",
        "outputId": "2a22a397-02a1-42f5-85d8-e0260471d6c4"
      },
      "outputs": [
        {
          "name": "stdout",
          "output_type": "stream",
          "text": [
            "found:  baa\n",
            "found:  baa2\n"
          ]
        }
      ],
      "source": [
        "tmpStr1 = 'baa baaa black sheep'\n",
        "match = re.search(r'ba+', tmpStr1)\n",
        "if match:\n",
        "    print('found: ', match.group())\n",
        "else:\n",
        "    print(\"did not find\")\n",
        "\n",
        "tmpStr2 = 'baa2 baaaa4 baaa3'\n",
        "match = re.search(r'ba+\\d', tmpStr2)\n",
        "if match:\n",
        "    print('found: ', match.group())\n",
        "else:\n",
        "    print(\"did not find\")"
      ]
    },
    {
      "cell_type": "markdown",
      "metadata": {
        "id": "YfxjMgVdkN-w"
      },
      "source": [
        "**Q** Which of the \"baa\" words is returned in tmpStr2?  Will the function return the leftmost or rightmost occurance in a string?"
      ]
    },
    {
      "cell_type": "markdown",
      "metadata": {
        "id": "gKw2Wy-3kez8"
      },
      "source": [
        "**ANS**\n",
        "baa2. Leftmost since it will be the first occcurance."
      ]
    },
    {
      "cell_type": "markdown",
      "metadata": {
        "id": "lMMzKxLYkhSg"
      },
      "source": [
        "### Example - Anchors\n",
        "\n",
        "The exception to you answer above is if the pattern specifies anchors to find a match at the beginning `^` or end `$` of a string."
      ]
    },
    {
      "cell_type": "code",
      "execution_count": 7,
      "metadata": {
        "colab": {
          "base_uri": "https://localhost:8080/"
        },
        "id": "ADkYpSJ8j8y5",
        "outputId": "ec8087ef-639f-4ee6-ee0a-a5499b0de104"
      },
      "outputs": [
        {
          "name": "stdout",
          "output_type": "stream",
          "text": [
            "found:  foobar1\n",
            "found:  foobar3\n"
          ]
        }
      ],
      "source": [
        "tmpStr1 = 'foobar1 foobar2 foobar3'\n",
        "match = re.search(r'^f\\w+\\d', tmpStr1)\n",
        "if match:\n",
        "    print('found: ', match.group())\n",
        "else:\n",
        "    print(\"did not find\")\n",
        "\n",
        "match = re.search(r'f\\w+\\d$', tmpStr1)\n",
        "if match:\n",
        "    print('found: ', match.group())\n",
        "else:\n",
        "    print(\"did not find\")"
      ]
    },
    {
      "cell_type": "markdown",
      "metadata": {
        "id": "UczkZSAGtDC6"
      },
      "source": [
        "### Exercise 2 - Create a pattern\n",
        "\n",
        "Create a regular expression pattern that matches all the positive examples below, but none of the negative examples.  You can not simply list the positives strings \"or\"ed together.\n",
        "\n",
        "| Positive | Negative |\n",
        "|----------|----------|\n",
        "| pit      | pt       |\n",
        "| spot     | Pot      |\n",
        "| spate    | peat     |\n",
        "| slap two | part     |\n",
        "| respite  |          |"
      ]
    },
    {
      "cell_type": "code",
      "execution_count": 8,
      "metadata": {
        "id": "CB2BbfJjn1Fk"
      },
      "outputs": [
        {
          "name": "stdout",
          "output_type": "stream",
          "text": [
            "Positive Cases: \n",
            "\n",
            "      pit: found\n",
            "     spot: found\n",
            "    spate: found\n",
            " slap two: found\n",
            "  respite: found\n",
            "\n",
            "Negative Cases: \n",
            "\n",
            "       pt: not found\n",
            "      Pot: not found\n",
            "     peat: not found\n",
            "     part: not found\n"
          ]
        }
      ],
      "source": [
        "cases = ['pit', 'spot', 'spate', 'slap two', 'respite', 'pt', 'Pot', 'peat', 'part']\n",
        "print('Positive Cases: \\n')\n",
        "for ex in cases: \n",
        "    match = re.search(r's\\w|pit', ex)\n",
        "    if ex==\"pt\": \n",
        "        print(\"\\nNegative Cases: \\n\")\n",
        "    if match: \n",
        "        print(\"%9s: found\" % ex)\n",
        "    else: \n",
        "        print(\"%9s: not found\" % ex)\n"
      ]
    },
    {
      "cell_type": "markdown",
      "metadata": {
        "id": "AgngjUwo1kTZ"
      },
      "source": [
        "### Example - Group Extraction\n",
        "\n",
        "The \"group\" part of regular expressions allows for part of the matching text to be selected out.  Let's say we want to extract an email from a string, but in addition to finding the email we want to extract the username and host separately, e.g., to pull out a MTU ISO login.\n",
        "\n",
        "The parenthesis in the pattern are used to identify the \"groups\" inside the text.  "
      ]
    },
    {
      "cell_type": "code",
      "execution_count": 11,
      "metadata": {
        "colab": {
          "base_uri": "https://localhost:8080/"
        },
        "id": "qgkc2Qjy2HDo",
        "outputId": "e855f681-a95e-4d63-f52a-4eccf8258995"
      },
      "outputs": [
        {
          "name": "stdout",
          "output_type": "stream",
          "text": [
            "Email:     jdoe@mtu.edu\n",
            "username:  jdoe\n",
            "hostname:  mtu.edu\n"
          ]
        }
      ],
      "source": [
        "tempStr = 'send an email to John, jdoe@mtu.edu, by tomorrow'\n",
        "match = re.search('([\\w]+)@([\\w.]+)', tempStr)\n",
        "if match:\n",
        "    print(\"Email:    \", match.group())\n",
        "    print(\"username: \", match.group(1))\n",
        "    print(\"hostname: \", match.group(2))\n",
        "else:\n",
        "    print(\"no match\")"
      ]
    },
    {
      "cell_type": "markdown",
      "metadata": {
        "id": "q1oQSgEI3VPk"
      },
      "source": [
        "### Exercise 3 - Groups\n",
        "\n",
        "There are discussions on what is the best regular expression pattern to match emails (e.g, used to verify emails in forms).  But, let's think about how to extend the pattern above to handle the following cases:\n",
        "\n",
        "* usernames, can have both characters and numbers and underscores, but will not start with a number, e.g, jdoe15@mtu.edu, sherlock24@gmail.com, tom_brady@gmail.com\n",
        "* an email may have task-specific email address (for example, google allows this), where you can add additional identifiers after your username, e.g., harrypotter+news@gmail.com or jonstark+dragons@gmail.com.  Make sure you can separate out a username from the tasks.\n",
        "\n"
      ]
    },
    {
      "cell_type": "code",
      "execution_count": 30,
      "metadata": {
        "id": "rDJkeftr5AbE"
      },
      "outputs": [
        {
          "name": "stdout",
          "output_type": "stream",
          "text": [
            "Email:  jdoe@gmail.com username:  jdoe identifiers:  None hostname:  None\n",
            "Email:  sherlock24@gmail.com username:  sherlock24 identifiers:  None hostname:  None\n",
            "Email:  tom_brady@gmail.com username:  tom_brady identifiers:  None hostname:  None\n",
            "Email:  harrypotter+news@gmail.com username:  harrypotter identifiers:  +news hostname:  news\n",
            "Email:  jonstark+dragons@gmail.com username:  jonstark identifiers:  +dragons hostname:  dragons\n",
            "Email:  juliet_capulet+poison@gmail.com username:  juliet_capulet identifiers:  +poison hostname:  poison\n"
          ]
        }
      ],
      "source": [
        "cases = ['jdoe@gmail.com', 'sherlock24@gmail.com', 'tom_brady@gmail.com',\n",
        "         'harrypotter+news@gmail.com', 'jonstark+dragons@gmail.com',\n",
        "         'juliet_capulet+poison@gmail.com']\n",
        "for ex in cases:\n",
        "    match = re.search(r'(\\w+)(\\+(\\w+))?@([\\w.]+)', ex)\n",
        "    if match:\n",
        "        print(\"Email: \", match.group(), end='')\n",
        "        print(\" username: \", match.group(1), end='')\n",
        "        print(\" identifiers: \", match.group(2), end='')\n",
        "        print(\" hostname: \", match.group(3))\n",
        "    else:\n",
        "        print(\"no match\")"
      ]
    }
  ],
  "metadata": {
    "colab": {
      "provenance": [],
      "toc_visible": true
    },
    "kernelspec": {
      "display_name": "Python 3",
      "name": "python3"
    },
    "language_info": {
      "codemirror_mode": {
        "name": "ipython",
        "version": 3
      },
      "file_extension": ".py",
      "mimetype": "text/x-python",
      "name": "python",
      "nbconvert_exporter": "python",
      "pygments_lexer": "ipython3",
      "version": "3.11.2"
    }
  },
  "nbformat": 4,
  "nbformat_minor": 0
}
