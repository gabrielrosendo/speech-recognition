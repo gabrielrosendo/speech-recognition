{
  "cells": [
    {
      "cell_type": "markdown",
      "metadata": {
        "id": "1B_cuSD6ex3k"
      },
      "source": [
        "# Lab - Week 4\n",
        "\n",
        "*Assigned: Thurs. 9/23*  \n",
        "**DUE: Wed. 9/29**\n",
        "\n",
        "**Name: Gabriel Marcelino **\n",
        "\n",
        "In this lab, you will explore using the methods of getting data and regular expressions. "
      ]
    },
    {
      "cell_type": "code",
      "execution_count": 2,
      "metadata": {
        "id": "UhHy3diEeu5v"
      },
      "outputs": [],
      "source": [
        "import re\n"
      ]
    },
    {
      "cell_type": "markdown",
      "metadata": {
        "id": "M7DwRtuQgmEv"
      },
      "source": [
        "# Python Regular Expressions \n",
        "\n",
        "The Python `re` module provides many functions for regular expression support.  Here you will learn more about the different functions and complete exercises to practice their use. "
      ]
    },
    {
      "cell_type": "markdown",
      "metadata": {
        "id": "GuO1Fcv3pJFe"
      },
      "source": [
        "## `re.match` \n",
        "\n",
        "The `match() function is used to check a pattern against some text.  It only tries to find the pattern in the beginning of the text.  \n",
        "\n",
        "`re.match` Documentation:  https://docs.python.org/3.7/library/re.html#re.match\n",
        "\n",
        "\n",
        "*Reminder* the 'r' at the start of the pattern, indicates that it is a \"raw\" string which passes through backslashes (handy for regular expresssions)."
      ]
    },
    {
      "cell_type": "markdown",
      "metadata": {
        "id": "Xr3ffV3Gs4sp"
      },
      "source": [
        "### Example"
      ]
    },
    {
      "cell_type": "code",
      "execution_count": 5,
      "metadata": {
        "id": "l2qbAH3IsNWC"
      },
      "outputs": [
        {
          "name": "stdout",
          "output_type": "stream",
          "text": [
            "found  Regular\n",
            "did not find\n"
          ]
        }
      ],
      "source": [
        "tmpStr1 = 'Regular expressions are great'\n",
        "tmpStr2 = 'It is fun learning about regular expressions'\n",
        "match = re.match(r'[Rr]egular', tmpStr1)\n",
        "\n",
        "if match: \n",
        "    print('found ', match.group()) \n",
        "else: \n",
        "    print(\"did not find\")\n",
        "\n",
        "match = re.match(r'[Rr]egular', tmpStr2)\n",
        "if match: \n",
        "    print('found ', match.group()) \n",
        "else: \n",
        "    print(\"did not find\")"
      ]
    },
    {
      "cell_type": "markdown",
      "metadata": {
        "id": "YF0GmxwJg8dJ"
      },
      "source": [
        "## `re.search`\n",
        "\n",
        "The `re.search(pat, str)` function takes two main arguments: `pat` a regular expression pattern and a `str` string.  The method searches for that first occurence of the pattern within the string.  If sucessful, `search()` returns a match object; otherwise it returns None. \n",
        "\n",
        "`re.search()` Documentation: https://docs.python.org/3.7/library/re.html#re.search"
      ]
    },
    {
      "cell_type": "markdown",
      "metadata": {
        "id": "6m30_qajs6uY"
      },
      "source": [
        "### Example"
      ]
    },
    {
      "cell_type": "code",
      "execution_count": 6,
      "metadata": {
        "id": "RhzMRUT9sr18"
      },
      "outputs": [
        {
          "name": "stdout",
          "output_type": "stream",
          "text": [
            "found  Regular\n",
            "found  regular\n"
          ]
        }
      ],
      "source": [
        "tmpStr1 = 'Regular expressions are great'\n",
        "tmpStr2 = 'It is fun learning about regular expressions'\n",
        "match = re.search(r'[Rr]egular', tmpStr1)\n",
        "if match: \n",
        "    print('found ', match.group()) \n",
        "else: \n",
        "    print(\"did not find\")\n",
        "\n",
        "match = re.search(r'[Rr]egular', tmpStr2)\n",
        "if match: \n",
        "    print('found ', match.group()) \n",
        "else: \n",
        "    print(\"did not find\")"
      ]
    },
    {
      "cell_type": "markdown",
      "metadata": {
        "id": "LaaeBIausv6H"
      },
      "source": [
        "### Example"
      ]
    },
    {
      "cell_type": "code",
      "execution_count": 10,
      "metadata": {
        "id": "uSltHybRfpj4"
      },
      "outputs": [
        {
          "name": "stdout",
          "output_type": "stream",
          "text": [
            "found  cat, Fido\n"
          ]
        }
      ],
      "source": [
        "tmpStr1 = 'I have a cat, Fido'\n",
        "tmpStr2 = 'I have a cat, Felix'\n",
        "tmpStr3 = 'I have a cat, It'\n",
        "match = re.search(r'cat,\\s\\w\\w\\w\\w', tmpStr1)\n",
        "if match: \n",
        "    print('found ', match.group()) \n",
        "else: \n",
        "    print(\"did not find\")"
      ]
    },
    {
      "cell_type": "markdown",
      "metadata": {
        "id": "Ct9XkyFEiisY"
      },
      "source": [
        "Try running the expression above on the three test strings. \n",
        " "
      ]
    },
    {
      "cell_type": "markdown",
      "metadata": {
        "id": "0uZed0OpjQXk"
      },
      "source": [
        "### Exercise 1 - Properties of search\n",
        "\n",
        "Examine the following search uses of the search function."
      ]
    },
    {
      "cell_type": "code",
      "execution_count": 14,
      "metadata": {
        "id": "YWwyrNM6iLJT"
      },
      "outputs": [
        {
          "name": "stdout",
          "output_type": "stream",
          "text": [
            "found:  baaa\n",
            "found:  baa2\n"
          ]
        }
      ],
      "source": [
        "tmpStr1 = 'baa baaa black sheep'\n",
        "match = re.search(r'ba+', tmpStr1)\n",
        "if match: \n",
        "    print('found: ', match.group()) \n",
        "else: \n",
        "    print(\"did not find\")\n",
        "\n",
        "tmpStr2 = 'baa2 baaaa4 baaa3'\n",
        "match = re.search(r'ba+\\d', tmpStr2)\n",
        "if match: \n",
        "    print('found: ', match.group()) \n",
        "else: \n",
        "    print(\"did not find\")"
      ]
    },
    {
      "cell_type": "markdown",
      "metadata": {
        "id": "YfxjMgVdkN-w"
      },
      "source": [
        "**Q** Which of the \"baa\" words is returned in tmpStr2?  Will the function return the leftmost or rightmost occurance in a string? "
      ]
    },
    {
      "cell_type": "markdown",
      "metadata": {
        "id": "gKw2Wy-3kez8"
      },
      "source": [
        "**ANS**\n",
        "baa2. Leftmost since it will be the first occcurance."
      ]
    },
    {
      "cell_type": "markdown",
      "metadata": {
        "id": "lMMzKxLYkhSg"
      },
      "source": [
        "### Example - Anchors\n",
        "\n",
        "The exception to you answer above is if the pattern specifies anchors to find a match at the beginning `^` or end `$` of a string. "
      ]
    },
    {
      "cell_type": "code",
      "execution_count": 15,
      "metadata": {
        "id": "ADkYpSJ8j8y5"
      },
      "outputs": [
        {
          "name": "stdout",
          "output_type": "stream",
          "text": [
            "found:  foobar1\n",
            "found:  foobar3\n"
          ]
        }
      ],
      "source": [
        "tmpStr1 = 'foobar1 foobar2 foobar3'\n",
        "match = re.search(r'^f\\w+\\d', tmpStr1)\n",
        "if match: \n",
        "    print('found: ', match.group()) \n",
        "else: \n",
        "    print(\"did not find\")\n",
        "\n",
        "match = re.search(r'f\\w+\\d$', tmpStr1)\n",
        "if match: \n",
        "    print('found: ', match.group()) \n",
        "else: \n",
        "    print(\"did not find\")"
      ]
    },
    {
      "cell_type": "markdown",
      "metadata": {
        "id": "UczkZSAGtDC6"
      },
      "source": [
        "### Exercise 2 - Create a pattern \n",
        "\n",
        "Create a regular expression pattern that matches all the positive examples below, but none of the negative examples.  You can not simply list the positives strings \"or\"ed together. \n",
        "\n",
        "| Positive | Negative | \n",
        "|----------|----------|\n",
        "| pit      | pt       | \n",
        "| spot     | Pot      |\n",
        "| spate    | peat     | \n",
        "| slap two | part     | \n",
        "| respite  |          |"
      ]
    },
    {
      "cell_type": "code",
      "execution_count": 21,
      "metadata": {
        "id": "CB2BbfJjn1Fk"
      },
      "outputs": [
        {
          "name": "stdout",
          "output_type": "stream",
          "text": [
            "Positive Cases: \n",
            "\n",
            "      pit: found\n",
            "     spot: found\n",
            "    spate: found\n",
            " slap two: found\n",
            "  respite: found\n",
            "\n",
            "Negative Cases: \n",
            "\n",
            "       pt: not found\n",
            "      Pot: not found\n",
            "     peat: not found\n",
            "     part: not found\n"
          ]
        }
      ],
      "source": [
        "cases = ['pit', 'spot', 'spate', 'slap two', 'respite', 'pt', 'Pot', 'peat', 'part']\n",
        "print('Positive Cases: \\n')\n",
        "for ex in cases: \n",
        "    match = re.search(r's\\w|pit', ex)\n",
        "    if ex==\"pt\": \n",
        "        print(\"\\nNegative Cases: \\n\")\n",
        "    if match: \n",
        "        print(\"%9s: found\" % ex)\n",
        "    else: \n",
        "        print(\"%9s: not found\" % ex)\n"
      ]
    },
    {
      "cell_type": "markdown",
      "metadata": {
        "id": "BmYgPEluukqj"
      },
      "source": [
        "### Exercise 3 - Create a Pattern \n",
        "\n",
        "Create a regular expression pattern that matches all the positive examples below, but none of the negative examples. You can not simply list the positives strings \"or\"ed together.\n",
        "\n",
        "| Positive | Negative | \n",
        "|----------|----------|\n",
        "| rap them | aleht    | \n",
        "| tapeth   | happy them | \n",
        "| apth     | tarpth | \n",
        "| wrap/try | Apt | \n",
        "| sap tray | peth | \n",
        "| 87ap9th  | tarreth | \n",
        "| apothecary | ddapdg | \n",
        "|      | apples | \n",
        "|      | shape the |"
      ]
    },
    {
      "cell_type": "code",
      "execution_count": 28,
      "metadata": {
        "id": "Gb01BASkuWGA"
      },
      "outputs": [
        {
          "name": "stdout",
          "output_type": "stream",
          "text": [
            "Positive Cases: \n",
            "\n",
            "   rap them: found\n",
            "     tapeth: not found\n",
            "       apth: not found\n",
            "   wrap/try: found\n",
            "   sap tray: found\n",
            "    87ap9th: found\n",
            " apothecary: not found\n",
            "\n",
            "Negative Cases: \n",
            "\n",
            "      aleht: not found\n",
            " happy them: not found\n",
            "     tarpth: not found\n",
            "        Apt: not found\n",
            "       peth: not found\n",
            "    tarreth: not found\n",
            "     ddapdg: not found\n",
            "     apples: not found\n",
            "  shape the: not found\n"
          ]
        }
      ],
      "source": [
        "cases = ['rap them', 'tapeth', 'apth', 'wrap/try', 'sap tray', '87ap9th', 'apothecary',\n",
        "         'aleht', 'happy them', 'tarpth', 'Apt', 'peth', 'tarreth', 'ddapdg', \n",
        "         'apples', 'shape the']\n",
        "print('Positive Cases: \\n')\n",
        "for ex in cases: \n",
        "    match = re.search(r'^r|tr|8', ex)\n",
        "    if ex==\"aleht\": \n",
        "        print(\"\\nNegative Cases: \\n\")\n",
        "    if match: \n",
        "        print(\"%11s: found\" % ex)\n",
        "    else: \n",
        "        print(\"%11s: not found\" % ex)"
      ]
    },
    {
      "cell_type": "markdown",
      "metadata": {
        "id": "U9QcD1a5xCh0"
      },
      "source": [
        "### Exercise 4 - Create a pattern \n",
        "\n",
        "Create a regular expression pattern that matches all the positive examples below, but none of the negative examples. You can not simply list the positives strings \"or\"ed together.\n",
        "\n",
        "| Positive | Negative | \n",
        "|----------|----------|\n",
        "| affgfking | fgok | \n",
        "| rafgkahe | a fgk | \n",
        "| bafghk | affgm | \n",
        "| baffgkit | afffhk | \n",
        "| affgfking | fgik | \n",
        "| rafgkahe | afg.K | \n",
        "| bafghk | aff gm | \n",
        "| baffg kit | afffhgk | \n",
        "\n",
        "\n",
        "\n",
        "\n",
        "\n",
        "\n",
        "\n"
      ]
    },
    {
      "cell_type": "code",
      "execution_count": null,
      "metadata": {
        "id": "BFMTgadnvag7"
      },
      "outputs": [],
      "source": [
        "cases = ['affgfking', 'rafgkahe', 'bafghk', 'baffgkit', 'affgfking', 'rafgkahe', \n",
        "         'bafghk', 'baffg kit', 'fgok', 'a fgk', 'affgm', 'afffhk', 'fgik', \n",
        "         'afg.K', 'aff gm', 'afffhgk']\n",
        "print('Positive Cases: \\n')\n",
        "for ex in cases: \n",
        "    match = re.search(r'', ex)\n",
        "    if ex=='fgok':\n",
        "        print(\"\\nNegative Cases: \\n\")\n",
        "    if match: \n",
        "        print(\"%10s: found\" % ex)\n",
        "    else: \n",
        "        print(\"%10s: not found\" % ex)"
      ]
    },
    {
      "cell_type": "markdown",
      "metadata": {
        "id": "AgngjUwo1kTZ"
      },
      "source": [
        "### Example - Group Extraction \n",
        "\n",
        "The \"group\" part of regular expressions allows for part of the matching text to be selected out.  Let's say we want to extract an email from a string, but in addition to finding the email we want to extract the username and host separately, e.g., to pull out a MTU ISO login. \n",
        "\n",
        "The parenthesis in the pattern are used to identify the \"groups\" inside the text.  "
      ]
    },
    {
      "cell_type": "code",
      "execution_count": null,
      "metadata": {
        "id": "qgkc2Qjy2HDo"
      },
      "outputs": [],
      "source": [
        "tempStr = 'send an email to John, jdoe@mtu.edu, by tomorrow'\n",
        "match = re.search('([\\w]+)@([\\w.]+)', tempStr)\n",
        "if match: \n",
        "    print(\"Email:    \", match.group())\n",
        "    print(\"username: \", match.group(1))\n",
        "    print(\"hostname: \", match.group(2))\n",
        "else: \n",
        "    print(\"no match\")"
      ]
    },
    {
      "cell_type": "markdown",
      "metadata": {
        "id": "q1oQSgEI3VPk"
      },
      "source": [
        "### Exercise 5 - Groups\n",
        "\n",
        "There are discussions on what is the best regular expression pattern to match emails (e.g, used to verify emails in forms).  But, let's think about how to extend the pattern above to handle the following cases: \n",
        "\n",
        "* usernames, can have both characters and numbers and underscores, but will not start with a number, e.g, jdoe15@mtu.edu, sherlock24@gmail.com, tom_brady@gmail.com \n",
        "* an email may have task-specific email address (for example, google allows this), where you can add additional identifiers after your username, e.g., harrypotter+news@gmail.com or jonstark+dragons@gmail.com.  Make sure you can separate out a username from the tasks. \n",
        "\n"
      ]
    },
    {
      "cell_type": "code",
      "execution_count": null,
      "metadata": {
        "id": "rDJkeftr5AbE"
      },
      "outputs": [],
      "source": [
        "cases = ['jdoe@gmail.com', 'sherlock24@gmail.com', 'tom_brady@gmail.com', \n",
        "         'harrypotter+news@gmail.com', 'jonstark+dragons@gmail.com',\n",
        "         'juliet_capulet+poison@gmail.com']\n",
        "for ex in cases: \n",
        "    match = re.search(r'', ex)\n",
        "    if match: \n",
        "        print(\"Email: \", match.group(), end='')\n",
        "        print(\" username: \", match.group(1), end='')\n",
        "        print(\" hostname: \", match.group(2))\n",
        "    else: \n",
        "        print(\"no match\")"
      ]
    },
    {
      "cell_type": "markdown",
      "metadata": {
        "id": "wUNtVeHx04lH"
      },
      "source": [
        "## `re.findall()` \n",
        "\n",
        "The `re.findall()` function returns all occurences (non-overlapping) of a pattern in a string. \n",
        "\n",
        "`re.findall()` Documentation: https://docs.python.org/3.7/library/re.html#re.findall"
      ]
    },
    {
      "cell_type": "markdown",
      "metadata": {
        "id": "mkHMmIqC6ZEU"
      },
      "source": [
        "### Example - findall with Files \n",
        "\n",
        "In the `nb.week4.part2.ipynb` notebook, we saw examples of looping over the lines of a file and running the regular expression. \n"
      ]
    },
    {
      "cell_type": "code",
      "execution_count": null,
      "metadata": {
        "id": "h9f5aJdyzi6T"
      },
      "outputs": [],
      "source": [
        "with open('rime-intro.txt', 'r') as f:\n",
        "  rime = f.readlines()\n",
        "f.close()"
      ]
    },
    {
      "cell_type": "code",
      "execution_count": null,
      "metadata": {
        "id": "eFuGbZ7V64EY"
      },
      "outputs": [],
      "source": [
        "for elem in rime:\n",
        "    #print (elem)\n",
        "    m = re.search(r\"Ship\", elem)\n",
        "    if m:\n",
        "        print(m.group())\n",
        "    else:\n",
        "        print(\"No match\")"
      ]
    },
    {
      "cell_type": "markdown",
      "metadata": {
        "id": "egBUjPOS69MZ"
      },
      "source": [
        "Or, we could do this for each line within the file reader block. "
      ]
    },
    {
      "cell_type": "code",
      "execution_count": null,
      "metadata": {
        "id": "7n28LLJ-68J-"
      },
      "outputs": [],
      "source": [
        "with open('rime-intro.txt', 'r') as f:\n",
        "    for line in f:\n",
        "        m = re.search(r\"Ship\", line)\n",
        "        if m:\n",
        "            print(m.group())\n",
        "        else:\n",
        "            print(\"No match\")\n",
        "\n",
        "f.close()"
      ]
    },
    {
      "cell_type": "markdown",
      "metadata": {
        "id": "lUczDGQX7keg"
      },
      "source": [
        "Instead, we can let `findall()` do the iteration. "
      ]
    },
    {
      "cell_type": "code",
      "execution_count": null,
      "metadata": {
        "id": "OG2IltUW7h7i"
      },
      "outputs": [],
      "source": [
        "f = open(\"rime-intro.txt\", 'r')\n",
        "strs = re.findall(r'Ship', f.read())\n",
        "f.close()"
      ]
    },
    {
      "cell_type": "markdown",
      "metadata": {
        "id": "u6iVcJ2j8DqU"
      },
      "source": [
        "## `re.sub()` \n",
        "\n",
        "The function `re.sub(pat, replacement, str)` function takes three arguments: the regular expression pattern, a replacement string, and the string to search on.  The funciton searches for all instaces of the pattern in the passed in string and replaces them.  \n",
        "\n"
      ]
    },
    {
      "cell_type": "code",
      "execution_count": null,
      "metadata": {
        "id": "mSKm7O7Y7zJS"
      },
      "outputs": [],
      "source": [
        "print(re.sub(r'benefits', 'advantages', 'Show the benefits of doing many examples'))"
      ]
    },
    {
      "cell_type": "markdown",
      "metadata": {
        "id": "BX5dIstA9H15"
      },
      "source": [
        "### Example - Substitution\n",
        "\n",
        "Replacement strings can make use of groups using `\\1` and `\\2`, to refer to `group(1)` and `group(2)`. \n",
        "\n",
        "For example, in the following text search for email addresses and replace the host with gmail.com. "
      ]
    },
    {
      "cell_type": "code",
      "execution_count": null,
      "metadata": {
        "id": "eY0xSuhu86jG"
      },
      "outputs": [],
      "source": [
        "tempStr = 'testing abc@mtu.edu, other words. punctuation doe@foobar.org blah'\n",
        "print(re.sub(r'([\\w\\.-]+)@([\\w\\.-]+)', r'\\1@gmail.com', tempStr))"
      ]
    },
    {
      "cell_type": "markdown",
      "metadata": {
        "id": "ZAGHg6n5AP4w"
      },
      "source": [
        "### Exercise 7 - Tweets \n",
        "\n",
        "Later on in the course you will have a project getting data from Twitter and doing some analysis.  \n",
        "\n",
        "Let's think about working on an individual tweet (string). \n",
        "\n",
        "For the tweets, replace mentions (`@`) and hashtags (`#`), with the just the word itself.  \n",
        "\n"
      ]
    },
    {
      "cell_type": "code",
      "execution_count": null,
      "metadata": {
        "id": "yvA7QfQH9-Po"
      },
      "outputs": [],
      "source": [
        "tweet1 = \"\"\"Join us this weekend for the 32nd annual Parade of Nations! The route\n",
        " is a little different this year, but the joy of the celebration remains the same. \n",
        "#ParadeOfNations #CelebrateDiversity #Community\n",
        "https://mtu.edu/international/events/parade-nations/parade/\"\"\"\n",
        "\n",
        "tweet2 = \"\"\"Harnessing entrepreneurial mindsets, MTU joins the Great Lakes Innovation Corps Hub.\n",
        "SwimSmart is an example of an idea that has bloomed into technology in the marketplace that benefits society.\n",
        "@NSF #innovate #GreatLakes #NSFFunded #icorps\n",
        "https://mtu.edu/news/press/releases/2021/michigan-tech-part-of-15m-great-lakes-innovation-hub.html\"\"\"\n",
        "\n",
        "# Print out the tweets removing the # and @ using regular expressions\n"
      ]
    },
    {
      "cell_type": "markdown",
      "metadata": {
        "id": "UsQa_DMaGNML"
      },
      "source": [
        "We will see more examples of regular expressions next week with respect to web scraping. \n"
      ]
    }
  ],
  "metadata": {
    "colab": {
      "collapsed_sections": [],
      "name": "lab4.week4.ipynb",
      "provenance": [],
      "toc_visible": true
    },
    "kernelspec": {
      "display_name": "Python 3",
      "name": "python3"
    },
    "language_info": {
      "codemirror_mode": {
        "name": "ipython",
        "version": 3
      },
      "file_extension": ".py",
      "mimetype": "text/x-python",
      "name": "python",
      "nbconvert_exporter": "python",
      "pygments_lexer": "ipython3",
      "version": "3.11.2"
    }
  },
  "nbformat": 4,
  "nbformat_minor": 0
}
