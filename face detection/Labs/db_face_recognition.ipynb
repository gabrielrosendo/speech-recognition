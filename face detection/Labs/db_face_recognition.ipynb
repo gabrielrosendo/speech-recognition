{
 "cells": [
  {
   "cell_type": "code",
   "execution_count": 1,
   "metadata": {
    "colab": {
     "base_uri": "https://localhost:8080/"
    },
    "executionInfo": {
     "elapsed": 26393,
     "status": "ok",
     "timestamp": 1727476172301,
     "user": {
      "displayName": "Tejaswi Chintapalli",
      "userId": "15723215743971103556"
     },
     "user_tz": 420
    },
    "id": "nL0Iwiiqfe8g",
    "outputId": "43668be7-4ac8-43ce-a967-49931b4ac112"
   },
   "outputs": [
    {
     "name": "stdout",
     "output_type": "stream",
     "text": [
      "Collecting face_recognition\n",
      "  Downloading face_recognition-1.3.0-py2.py3-none-any.whl.metadata (21 kB)\n",
      "Collecting face-recognition-models>=0.3.0 (from face_recognition)\n",
      "  Downloading face_recognition_models-0.3.0.tar.gz (100.1 MB)\n",
      "\u001b[2K     \u001b[90m━━━━━━━━━━━━━━━━━━━━━━━━━━━━━━━━━━━━━━\u001b[0m \u001b[32m100.1/100.1 MB\u001b[0m \u001b[31m18.9 MB/s\u001b[0m eta \u001b[36m0:00:00\u001b[0m00:01\u001b[0m00:01\u001b[0m\n",
      "\u001b[?25h  Preparing metadata (setup.py) ... \u001b[?25ldone\n",
      "\u001b[?25hCollecting Click>=6.0 (from face_recognition)\n",
      "  Downloading click-8.1.8-py3-none-any.whl.metadata (2.3 kB)\n",
      "Collecting dlib>=19.7 (from face_recognition)\n",
      "  Downloading dlib-19.24.6.tar.gz (3.4 MB)\n",
      "\u001b[2K     \u001b[90m━━━━━━━━━━━━━━━━━━━━━━━━━━━━━━━━━━━━━━━━\u001b[0m \u001b[32m3.4/3.4 MB\u001b[0m \u001b[31m32.4 MB/s\u001b[0m eta \u001b[36m0:00:00\u001b[0m\n",
      "\u001b[?25h  Preparing metadata (setup.py) ... \u001b[?25ldone\n",
      "\u001b[?25hRequirement already satisfied: numpy in /Users/gabriel/miniconda3/lib/python3.12/site-packages (from face_recognition) (2.1.3)\n",
      "Requirement already satisfied: Pillow in /Users/gabriel/miniconda3/lib/python3.12/site-packages (from face_recognition) (11.0.0)\n",
      "Downloading face_recognition-1.3.0-py2.py3-none-any.whl (15 kB)\n",
      "Downloading click-8.1.8-py3-none-any.whl (98 kB)\n",
      "Building wheels for collected packages: dlib, face-recognition-models\n",
      "  Building wheel for dlib (setup.py) ... \u001b[?25ldone\n",
      "\u001b[?25h  Created wheel for dlib: filename=dlib-19.24.6-cp312-cp312-macosx_15_0_arm64.whl size=2940476 sha256=76f50913918ffe04190dfbb98469a00cf42a6615143d312f99d2c9100e690179\n",
      "  Stored in directory: /Users/gabriel/Library/Caches/pip/wheels/8d/16/b2/d2df2ea5d9430e80343c7b696e9588e5cc98b0d903d434d768\n",
      "  Building wheel for face-recognition-models (setup.py) ... \u001b[?25ldone\n",
      "\u001b[?25h  Created wheel for face-recognition-models: filename=face_recognition_models-0.3.0-py2.py3-none-any.whl size=100566164 sha256=db4e698de473231f67c989b7ae4c047800d12829d10d1ea8ca65df4d520d298c\n",
      "  Stored in directory: /Users/gabriel/Library/Caches/pip/wheels/8f/47/c8/f44c5aebb7507f7c8a2c0bd23151d732d0f0bd6884ad4ac635\n",
      "Successfully built dlib face-recognition-models\n",
      "Installing collected packages: face-recognition-models, dlib, Click, face_recognition\n",
      "Successfully installed Click-8.1.8 dlib-19.24.6 face-recognition-models-0.3.0 face_recognition-1.3.0\n"
     ]
    }
   ],
   "source": [
    "!pip install face_recognition"
   ]
  },
  {
   "cell_type": "code",
   "execution_count": 2,
   "metadata": {
    "executionInfo": {
     "elapsed": 4287,
     "status": "ok",
     "timestamp": 1727476176585,
     "user": {
      "displayName": "Tejaswi Chintapalli",
      "userId": "15723215743971103556"
     },
     "user_tz": 420
    },
    "id": "SBFDUrxbevTj"
   },
   "outputs": [
    {
     "ename": "ModuleNotFoundError",
     "evalue": "No module named 'face_recognition'",
     "output_type": "error",
     "traceback": [
      "\u001b[0;31m---------------------------------------------------------------------------\u001b[0m",
      "\u001b[0;31mModuleNotFoundError\u001b[0m                       Traceback (most recent call last)",
      "Cell \u001b[0;32mIn[2], line 1\u001b[0m\n\u001b[0;32m----> 1\u001b[0m \u001b[38;5;28;01mimport\u001b[39;00m \u001b[38;5;21;01mface_recognition\u001b[39;00m\n\u001b[1;32m      2\u001b[0m \u001b[38;5;28;01mimport\u001b[39;00m \u001b[38;5;21;01mcv2\u001b[39;00m\n\u001b[1;32m      3\u001b[0m \u001b[38;5;28;01mimport\u001b[39;00m \u001b[38;5;21;01mnumpy\u001b[39;00m \u001b[38;5;28;01mas\u001b[39;00m \u001b[38;5;21;01mnp\u001b[39;00m\n",
      "\u001b[0;31mModuleNotFoundError\u001b[0m: No module named 'face_recognition'"
     ]
    }
   ],
   "source": [
    "import face_recognition\n",
    "import cv2\n",
    "import numpy as np\n",
    "import os\n",
    "import dlib\n",
    "from google.colab.patches import cv2_imshow"
   ]
  },
  {
   "cell_type": "code",
   "execution_count": 5,
   "metadata": {
    "executionInfo": {
     "elapsed": 207,
     "status": "ok",
     "timestamp": 1727476180990,
     "user": {
      "displayName": "Tejaswi Chintapalli",
      "userId": "15723215743971103556"
     },
     "user_tz": 420
    },
    "id": "WkP3lVDHfzBl"
   },
   "outputs": [],
   "source": [
    "path = '/content/Singers'"
   ]
  },
  {
   "cell_type": "code",
   "execution_count": 6,
   "metadata": {
    "executionInfo": {
     "elapsed": 298,
     "status": "ok",
     "timestamp": 1727476183285,
     "user": {
      "displayName": "Tejaswi Chintapalli",
      "userId": "15723215743971103556"
     },
     "user_tz": 420
    },
    "id": "0i2WQ4RihNUk"
   },
   "outputs": [],
   "source": [
    "def getFaces(path):\n",
    "    imagepaths = [os.path.join(path, f) for f in os.listdir(path)]\n",
    "    faces = []\n",
    "    IDs = []\n",
    "    count = 0\n",
    "    for imagepath in imagepaths:\n",
    "        if (os.path.split(imagepath)[-1].split('.')[1] != 'jpeg'):\n",
    "            continue\n",
    "        print(imagepath)\n",
    "        face_image = face_recognition.load_image_file(imagepath)\n",
    "        face_encoding = face_recognition.face_encodings(face_image)[0]\n",
    "        faces.append(face_encoding)\n",
    "        ID = os.path.split(imagepath)[-1].split('.')[0]\n",
    "        IDs.append(ID)\n",
    "        count = count + 1\n",
    "    return IDs, faces\n"
   ]
  },
  {
   "cell_type": "code",
   "execution_count": 7,
   "metadata": {
    "colab": {
     "base_uri": "https://localhost:8080/"
    },
    "executionInfo": {
     "elapsed": 2791,
     "status": "ok",
     "timestamp": 1727476188605,
     "user": {
      "displayName": "Tejaswi Chintapalli",
      "userId": "15723215743971103556"
     },
     "user_tz": 420
    },
    "id": "RszMINiPhSop",
    "outputId": "d8e893f3-299d-4eee-c5e5-dc0cc9cce830"
   },
   "outputs": [
    {
     "name": "stdout",
     "output_type": "stream",
     "text": [
      "/content/Singers/Nicki.jpeg\n",
      "/content/Singers/Harry.jpeg\n",
      "/content/Singers/Ariana.jpeg\n",
      "/content/Singers/Charlie.jpeg\n",
      "/content/Singers/Taylor.jpeg\n",
      "/content/Singers/Selena.jpeg\n",
      "/content/Singers/Weekend.jpeg\n",
      "/content/Singers/Justin.jpeg\n",
      "['Nicki', 'Harry', 'Ariana', 'Charlie', 'Taylor', 'Selena', 'Weekend', 'Justin']\n"
     ]
    }
   ],
   "source": [
    "known_face_names, known_face_encodings = getFaces(path)\n",
    "print(known_face_names)"
   ]
  },
  {
   "cell_type": "code",
   "execution_count": 8,
   "metadata": {
    "executionInfo": {
     "elapsed": 199,
     "status": "ok",
     "timestamp": 1727476270305,
     "user": {
      "displayName": "Tejaswi Chintapalli",
      "userId": "15723215743971103556"
     },
     "user_tz": 420
    },
    "id": "zBa7qqjgiT2y"
   },
   "outputs": [],
   "source": [
    "testpath = \"test.webp\"\n",
    "frame = cv2.imread(testpath)\n",
    "rgb_frame = cv2.cvtColor(frame, cv2.COLOR_BGR2RGB)  # Convert BGR to RGB"
   ]
  },
  {
   "cell_type": "code",
   "execution_count": 9,
   "metadata": {
    "executionInfo": {
     "elapsed": 3452,
     "status": "ok",
     "timestamp": 1727476281492,
     "user": {
      "displayName": "Tejaswi Chintapalli",
      "userId": "15723215743971103556"
     },
     "user_tz": 420
    },
    "id": "PlFKOSrgiWBn"
   },
   "outputs": [],
   "source": [
    "face_locations = face_recognition.face_locations(rgb_frame)\n",
    "face_encodings = face_recognition.face_encodings(rgb_frame, face_locations)"
   ]
  },
  {
   "cell_type": "code",
   "execution_count": null,
   "metadata": {
    "id": "F-emggX1iZEe"
   },
   "outputs": [],
   "source": [
    "for (top, right, bottom, left), face_encoding in zip(face_locations, face_encodings):\n",
    "    matches = face_recognition.compare_faces(known_face_encodings, face_encoding)\n",
    "    name = \"Unknown\"\n",
    "    face_distances = face_recognition.face_distance(known_face_encodings, face_encoding)\n",
    "    best_match_index = np.argmin(face_distances)\n",
    "    if matches[best_match_index]:\n",
    "        name = known_face_names[best_match_index]\n"
   ]
  },
  {
   "cell_type": "code",
   "execution_count": null,
   "metadata": {
    "colab": {
     "base_uri": "https://localhost:8080/"
    },
    "collapsed": true,
    "executionInfo": {
     "elapsed": 182,
     "status": "ok",
     "timestamp": 1727391825534,
     "user": {
      "displayName": "Tejaswi Chintapalli",
      "userId": "03963810696295408727"
     },
     "user_tz": 420
    },
    "id": "mt0oPyL9icUQ",
    "outputId": "fed28856-4c01-4967-e750-3fd54a9e2d36"
   },
   "outputs": [
    {
     "data": {
      "text/plain": [
       "array([[[115, 146, 168],\n",
       "        [115, 146, 168],\n",
       "        [116, 147, 169],\n",
       "        ...,\n",
       "        [141, 184, 211],\n",
       "        [148, 191, 218],\n",
       "        [148, 191, 218]],\n",
       "\n",
       "       [[115, 146, 168],\n",
       "        [115, 146, 168],\n",
       "        [116, 147, 169],\n",
       "        ...,\n",
       "        [143, 187, 214],\n",
       "        [148, 191, 218],\n",
       "        [146, 189, 216]],\n",
       "\n",
       "       [[115, 146, 168],\n",
       "        [115, 146, 168],\n",
       "        [115, 146, 168],\n",
       "        ...,\n",
       "        [143, 187, 214],\n",
       "        [145, 188, 215],\n",
       "        [140, 183, 210]],\n",
       "\n",
       "       ...,\n",
       "\n",
       "       [[155, 167, 165],\n",
       "        [162, 174, 172],\n",
       "        [165, 177, 175],\n",
       "        ...,\n",
       "        [ 82, 100, 108],\n",
       "        [ 78,  96, 105],\n",
       "        [ 78,  96, 105]],\n",
       "\n",
       "       [[162, 174, 172],\n",
       "        [166, 178, 176],\n",
       "        [159, 171, 169],\n",
       "        ...,\n",
       "        [ 76,  94, 102],\n",
       "        [ 76,  94, 102],\n",
       "        [ 78,  96, 105]],\n",
       "\n",
       "       [[161, 173, 171],\n",
       "        [156, 168, 167],\n",
       "        [146, 158, 156],\n",
       "        ...,\n",
       "        [ 74,  91, 100],\n",
       "        [ 76,  94, 102],\n",
       "        [ 78,  96, 105]]], dtype=uint8)"
      ]
     },
     "execution_count": 21,
     "metadata": {},
     "output_type": "execute_result"
    }
   ],
   "source": [
    "cv2.rectangle(frame, (left, top), (right, bottom), (0, 0, 255), 2)\n",
    "cv2.rectangle(frame, (left, bottom - 35), (right, bottom), (0, 0, 255), cv2.FILLED)\n",
    "font = cv2.FONT_HERSHEY_DUPLEX\n",
    "cv2.putText(frame, name, (left + 6, bottom - 6), font, 1.0, (255, 255, 255), 1)\n"
   ]
  },
  {
   "cell_type": "code",
   "execution_count": null,
   "metadata": {
    "colab": {
     "base_uri": "https://localhost:8080/",
     "height": 1000,
     "output_embedded_package_id": "1Ix0d6l5zxcbOaA6sjW5bpFDCRATgRwdf"
    },
    "executionInfo": {
     "elapsed": 10740,
     "status": "ok",
     "timestamp": 1727391857719,
     "user": {
      "displayName": "Tejaswi Chintapalli",
      "userId": "03963810696295408727"
     },
     "user_tz": 420
    },
    "id": "YfE3-xzTieqN",
    "outputId": "1cb4664c-0cd0-464c-c7fd-cf35fdae8464"
   },
   "outputs": [
    {
     "data": {
      "text/plain": [
       "Output hidden; open in https://colab.research.google.com to view."
      ]
     },
     "metadata": {},
     "output_type": "display_data"
    }
   ],
   "source": [
    "cv2_imshow(frame)\n",
    "cv2.waitKey(0)\n",
    "cv2.destroyAllWindows()\n"
   ]
  },
  {
   "cell_type": "markdown",
   "metadata": {
    "id": "0tLXwJR9vb2Z"
   },
   "source": [
    "# Task"
   ]
  },
  {
   "cell_type": "markdown",
   "metadata": {
    "id": "ahyvpexuvGaN"
   },
   "source": [
    "\n",
    "\n",
    "\n",
    "*   Replace the training data with your own images.\n",
    "*   After that, execute the code to capture test data from the webcam and display the identified names.\n",
    "\n"
   ]
  }
 ],
 "metadata": {
  "accelerator": "GPU",
  "colab": {
   "gpuType": "T4",
   "provenance": []
  },
  "kernelspec": {
   "display_name": "Python 3",
   "name": "python3"
  },
  "language_info": {
   "codemirror_mode": {
    "name": "ipython",
    "version": 3
   },
   "file_extension": ".py",
   "mimetype": "text/x-python",
   "name": "python",
   "nbconvert_exporter": "python",
   "pygments_lexer": "ipython3",
   "version": "3.11.2"
  }
 },
 "nbformat": 4,
 "nbformat_minor": 0
}
